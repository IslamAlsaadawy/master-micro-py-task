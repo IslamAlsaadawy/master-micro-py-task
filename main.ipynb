{
 "cells": [
  {
   "cell_type": "code",
   "execution_count": null,
   "metadata": {},
   "outputs": [],
   "source": [
    "import sys\n",
    "from PySide2.QtWidgets import QWidget, QVBoxLayout, QHBoxLayout,  QLabel, QLineEdit,QPushButton"
   ]
  },
  {
   "cell_type": "code",
   "execution_count": null,
   "metadata": {},
   "outputs": [],
   "source": [
    "class Window(QWidget):\n",
    "    def __init__ (self):\n",
    "        super().__init__()\n",
    "        self.setWindowTitle(\"Function Plot\")\n",
    "        self.setMinimumSize(800,600)\n",
    "        v_layout = QVBoxLayout\n",
    "        h_input_layout = QHBoxLayout\n",
    "\n",
    "        #Labels, inputs and buttons\n",
    "\n",
    "        function_label = QLabel(\"Enter a function: \")\n",
    "        function_text_input = QLineEdit()\n",
    "\n",
    "        xmin_label = QLabel(\"Minimum x value: \")\n",
    "        xmin_text_input = QLineEdit()\n",
    "\n",
    "        xmax_label = QLabel(\"Maximum x value: \")\n",
    "        xmax_text_input =  QLineEdit()\n",
    "\n",
    "        plot_function_button = QPushButton(\"Plot\")\n",
    "        # plot_function_button.clicked.connect(self.plot_function) still to be implemented\n",
    "\n",
    "        #Adding the widgets to the H box\n",
    "        h_input_layout.addWidget(function_label)\n",
    "        h_input_layout.addWidget(function_text_input)\n",
    "\n",
    "        h_input_layout.addWidget(xmin_label)\n",
    "        h_input_layout.addWidget(xmin_text_input)\n",
    "\n",
    "\n",
    "        h_input_layout.addWidget(xmax_label)\n",
    "        h_input_layout.addWidget(xmax_text_input)\n",
    "\n",
    "\n",
    "\n",
    "        "
   ]
  },
  {
   "cell_type": "code",
   "execution_count": null,
   "metadata": {},
   "outputs": [],
   "source": []
  }
 ],
 "metadata": {
  "language_info": {
   "name": "python"
  },
  "orig_nbformat": 4
 },
 "nbformat": 4,
 "nbformat_minor": 2
}
