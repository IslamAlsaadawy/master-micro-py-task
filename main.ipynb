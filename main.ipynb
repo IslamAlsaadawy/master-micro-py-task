{
 "cells": [
  {
   "cell_type": "code",
   "execution_count": null,
   "metadata": {},
   "outputs": [],
   "source": [
    "import sys\n",
    "from PySide2.QtWidgets import QWidget, QVBoxLayout, QHBoxLayout"
   ]
  },
  {
   "cell_type": "code",
   "execution_count": null,
   "metadata": {},
   "outputs": [],
   "source": [
    "class Window(QWidget):\n",
    "    def __init__ (self):\n",
    "        super().__init__()\n",
    "        self.setWindowTitle(\"Function Plot\")\n",
    "        self.setMinimumSize(800,600)\n",
    "        v_layout = QVBoxLayout\n",
    "        h_input_layou = QHBoxLayout\n",
    "        "
   ]
  }
 ],
 "metadata": {
  "language_info": {
   "name": "python"
  },
  "orig_nbformat": 4
 },
 "nbformat": 4,
 "nbformat_minor": 2
}
